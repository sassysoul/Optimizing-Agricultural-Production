{
  "nbformat": 4,
  "nbformat_minor": 0,
  "metadata": {
    "colab": {
      "name": "Optimizing Agricultural Production.ipynb",
      "provenance": [],
      "authorship_tag": "ABX9TyPr7um0VOzZ8hXQ05OZlYmH",
      "include_colab_link": true
    },
    "kernelspec": {
      "name": "python3",
      "display_name": "Python 3"
    },
    "language_info": {
      "name": "python"
    },
    "widgets": {
      "application/vnd.jupyter.widget-state+json": {
        "9b06f9d2804b4453a891fffa1c6f1a3f": {
          "model_module": "@jupyter-widgets/controls",
          "model_name": "VBoxModel",
          "model_module_version": "1.5.0",
          "state": {
            "_view_name": "VBoxView",
            "_dom_classes": [
              "widget-interact"
            ],
            "_model_name": "VBoxModel",
            "_view_module": "@jupyter-widgets/controls",
            "_model_module_version": "1.5.0",
            "_view_count": null,
            "_view_module_version": "1.5.0",
            "box_style": "",
            "layout": "IPY_MODEL_05328c14d68f476fb158ee2802d156c7",
            "_model_module": "@jupyter-widgets/controls",
            "children": [
              "IPY_MODEL_5eeed7f89787439f9e086c40e2da61f7",
              "IPY_MODEL_790c81d151184791847bef1bdf8b1ea3"
            ]
          }
        },
        "05328c14d68f476fb158ee2802d156c7": {
          "model_module": "@jupyter-widgets/base",
          "model_name": "LayoutModel",
          "model_module_version": "1.2.0",
          "state": {
            "_view_name": "LayoutView",
            "grid_template_rows": null,
            "right": null,
            "justify_content": null,
            "_view_module": "@jupyter-widgets/base",
            "overflow": null,
            "_model_module_version": "1.2.0",
            "_view_count": null,
            "flex_flow": null,
            "width": null,
            "min_width": null,
            "border": null,
            "align_items": null,
            "bottom": null,
            "_model_module": "@jupyter-widgets/base",
            "top": null,
            "grid_column": null,
            "overflow_y": null,
            "overflow_x": null,
            "grid_auto_flow": null,
            "grid_area": null,
            "grid_template_columns": null,
            "flex": null,
            "_model_name": "LayoutModel",
            "justify_items": null,
            "grid_row": null,
            "max_height": null,
            "align_content": null,
            "visibility": null,
            "align_self": null,
            "height": null,
            "min_height": null,
            "padding": null,
            "grid_auto_rows": null,
            "grid_gap": null,
            "max_width": null,
            "order": null,
            "_view_module_version": "1.2.0",
            "grid_template_areas": null,
            "object_position": null,
            "object_fit": null,
            "grid_auto_columns": null,
            "margin": null,
            "display": null,
            "left": null
          }
        },
        "5eeed7f89787439f9e086c40e2da61f7": {
          "model_module": "@jupyter-widgets/controls",
          "model_name": "DropdownModel",
          "model_module_version": "1.5.0",
          "state": {
            "_options_labels": [
              "watermelon",
              "pomegranate",
              "mango",
              "coffee",
              "lentil",
              "jute",
              "pigeonpeas",
              "papaya",
              "muskmelon",
              "maize",
              "mothbeans",
              "cotton",
              "banana",
              "chickpea",
              "coconut",
              "orange",
              "rice",
              "kidneybeans",
              "mungbean",
              "apple",
              "grapes",
              "blackgram"
            ],
            "_view_name": "DropdownView",
            "style": "IPY_MODEL_09cb6c7f98ac48f2a820d5146982997d",
            "_dom_classes": [],
            "description": "crops",
            "_model_name": "DropdownModel",
            "index": 0,
            "_view_module": "@jupyter-widgets/controls",
            "_model_module_version": "1.5.0",
            "_view_count": null,
            "disabled": false,
            "_view_module_version": "1.5.0",
            "description_tooltip": null,
            "_model_module": "@jupyter-widgets/controls",
            "layout": "IPY_MODEL_185e8bace05a440289f2971b7a3dc397"
          }
        },
        "790c81d151184791847bef1bdf8b1ea3": {
          "model_module": "@jupyter-widgets/output",
          "model_name": "OutputModel",
          "model_module_version": "1.0.0",
          "state": {
            "_view_name": "OutputView",
            "msg_id": "",
            "_dom_classes": [],
            "_model_name": "OutputModel",
            "outputs": [
              {
                "output_type": "stream",
                "name": "stdout",
                "text": [
                  "----------------------------------------------------------------\n",
                  "Statistics for Nitrogen\n",
                  "Minimum Nitrogen required:  80\n",
                  "Average Nitrogen required:  99.42\n",
                  "Maximum Nitrogen required:  120\n",
                  "----------------------------------------------------------------\n",
                  "Statistics for Phoshphorous\n",
                  "Minimum Phoshphorous required:  5\n",
                  "Average Phoshphorous required:  17.0\n",
                  "Maximum Phoshphorous required:  30\n",
                  "----------------------------------------------------------------\n",
                  "Statistics for Potassium\n",
                  "Minimum Potassium required:  5\n",
                  "Average Potassium required:  17.0\n",
                  "Maximum Potassium required:  30\n",
                  "----------------------------------------------------------------\n",
                  "Statistics for Temperature\n",
                  "Minimum Temperature required: 24.04\n",
                  "Average Temperature required: 25.59\n",
                  "Maximum Temperature required: 26.99\n",
                  "----------------------------------------------------------------\n",
                  "Statistics for Humidity\n",
                  "Minimum Humidity required: 80.03\n",
                  "Average Humidity required: 85.16\n",
                  "Maximum Humidity required: 89.98\n",
                  "----------------------------------------------------------------\n",
                  "Statistics for PH\n",
                  "Minimum PH required: 6.00\n",
                  "Average PH required: 6.50\n",
                  "Maximum PH required: 6.96\n",
                  "----------------------------------------------------------------\n",
                  "Statistics for Rainfall\n",
                  "Minimum rainfall required: 40.13\n",
                  "Average rainfall required: 50.79\n",
                  "Maximum rainfall required: 59.76\n"
                ]
              }
            ],
            "_view_module": "@jupyter-widgets/output",
            "_model_module_version": "1.0.0",
            "_view_count": null,
            "_view_module_version": "1.0.0",
            "layout": "IPY_MODEL_ec620c8660e540b997cb7700cf88c108",
            "_model_module": "@jupyter-widgets/output"
          }
        },
        "09cb6c7f98ac48f2a820d5146982997d": {
          "model_module": "@jupyter-widgets/controls",
          "model_name": "DescriptionStyleModel",
          "model_module_version": "1.5.0",
          "state": {
            "_view_name": "StyleView",
            "_model_name": "DescriptionStyleModel",
            "description_width": "",
            "_view_module": "@jupyter-widgets/base",
            "_model_module_version": "1.5.0",
            "_view_count": null,
            "_view_module_version": "1.2.0",
            "_model_module": "@jupyter-widgets/controls"
          }
        },
        "185e8bace05a440289f2971b7a3dc397": {
          "model_module": "@jupyter-widgets/base",
          "model_name": "LayoutModel",
          "model_module_version": "1.2.0",
          "state": {
            "_view_name": "LayoutView",
            "grid_template_rows": null,
            "right": null,
            "justify_content": null,
            "_view_module": "@jupyter-widgets/base",
            "overflow": null,
            "_model_module_version": "1.2.0",
            "_view_count": null,
            "flex_flow": null,
            "width": null,
            "min_width": null,
            "border": null,
            "align_items": null,
            "bottom": null,
            "_model_module": "@jupyter-widgets/base",
            "top": null,
            "grid_column": null,
            "overflow_y": null,
            "overflow_x": null,
            "grid_auto_flow": null,
            "grid_area": null,
            "grid_template_columns": null,
            "flex": null,
            "_model_name": "LayoutModel",
            "justify_items": null,
            "grid_row": null,
            "max_height": null,
            "align_content": null,
            "visibility": null,
            "align_self": null,
            "height": null,
            "min_height": null,
            "padding": null,
            "grid_auto_rows": null,
            "grid_gap": null,
            "max_width": null,
            "order": null,
            "_view_module_version": "1.2.0",
            "grid_template_areas": null,
            "object_position": null,
            "object_fit": null,
            "grid_auto_columns": null,
            "margin": null,
            "display": null,
            "left": null
          }
        },
        "ec620c8660e540b997cb7700cf88c108": {
          "model_module": "@jupyter-widgets/base",
          "model_name": "LayoutModel",
          "model_module_version": "1.2.0",
          "state": {
            "_view_name": "LayoutView",
            "grid_template_rows": null,
            "right": null,
            "justify_content": null,
            "_view_module": "@jupyter-widgets/base",
            "overflow": null,
            "_model_module_version": "1.2.0",
            "_view_count": null,
            "flex_flow": null,
            "width": null,
            "min_width": null,
            "border": null,
            "align_items": null,
            "bottom": null,
            "_model_module": "@jupyter-widgets/base",
            "top": null,
            "grid_column": null,
            "overflow_y": null,
            "overflow_x": null,
            "grid_auto_flow": null,
            "grid_area": null,
            "grid_template_columns": null,
            "flex": null,
            "_model_name": "LayoutModel",
            "justify_items": null,
            "grid_row": null,
            "max_height": null,
            "align_content": null,
            "visibility": null,
            "align_self": null,
            "height": null,
            "min_height": null,
            "padding": null,
            "grid_auto_rows": null,
            "grid_gap": null,
            "max_width": null,
            "order": null,
            "_view_module_version": "1.2.0",
            "grid_template_areas": null,
            "object_position": null,
            "object_fit": null,
            "grid_auto_columns": null,
            "margin": null,
            "display": null,
            "left": null
          }
        },
        "0b24868f08cf4a888ff159f5e3a81456": {
          "model_module": "@jupyter-widgets/controls",
          "model_name": "VBoxModel",
          "model_module_version": "1.5.0",
          "state": {
            "_view_name": "VBoxView",
            "_dom_classes": [
              "widget-interact"
            ],
            "_model_name": "VBoxModel",
            "_view_module": "@jupyter-widgets/controls",
            "_model_module_version": "1.5.0",
            "_view_count": null,
            "_view_module_version": "1.5.0",
            "box_style": "",
            "layout": "IPY_MODEL_b595c3024735409da7b5e89a002f1010",
            "_model_module": "@jupyter-widgets/controls",
            "children": [
              "IPY_MODEL_aea62da70c6d4d05832f3983eba92c7b",
              "IPY_MODEL_97d8e6eaeb874ba995e887517491d66b"
            ]
          }
        },
        "b595c3024735409da7b5e89a002f1010": {
          "model_module": "@jupyter-widgets/base",
          "model_name": "LayoutModel",
          "model_module_version": "1.2.0",
          "state": {
            "_view_name": "LayoutView",
            "grid_template_rows": null,
            "right": null,
            "justify_content": null,
            "_view_module": "@jupyter-widgets/base",
            "overflow": null,
            "_model_module_version": "1.2.0",
            "_view_count": null,
            "flex_flow": null,
            "width": null,
            "min_width": null,
            "border": null,
            "align_items": null,
            "bottom": null,
            "_model_module": "@jupyter-widgets/base",
            "top": null,
            "grid_column": null,
            "overflow_y": null,
            "overflow_x": null,
            "grid_auto_flow": null,
            "grid_area": null,
            "grid_template_columns": null,
            "flex": null,
            "_model_name": "LayoutModel",
            "justify_items": null,
            "grid_row": null,
            "max_height": null,
            "align_content": null,
            "visibility": null,
            "align_self": null,
            "height": null,
            "min_height": null,
            "padding": null,
            "grid_auto_rows": null,
            "grid_gap": null,
            "max_width": null,
            "order": null,
            "_view_module_version": "1.2.0",
            "grid_template_areas": null,
            "object_position": null,
            "object_fit": null,
            "grid_auto_columns": null,
            "margin": null,
            "display": null,
            "left": null
          }
        },
        "aea62da70c6d4d05832f3983eba92c7b": {
          "model_module": "@jupyter-widgets/controls",
          "model_name": "DropdownModel",
          "model_module_version": "1.5.0",
          "state": {
            "_options_labels": [
              "N",
              "P",
              "K",
              "temperature",
              "ph",
              "humidity",
              "rainfall"
            ],
            "_view_name": "DropdownView",
            "style": "IPY_MODEL_b8ebae6e350b485a9f391cb548becf60",
            "_dom_classes": [],
            "description": "conditions",
            "_model_name": "DropdownModel",
            "index": 0,
            "_view_module": "@jupyter-widgets/controls",
            "_model_module_version": "1.5.0",
            "_view_count": null,
            "disabled": false,
            "_view_module_version": "1.5.0",
            "description_tooltip": null,
            "_model_module": "@jupyter-widgets/controls",
            "layout": "IPY_MODEL_e9db6eb6bab045c18d28c8f58597c6d7"
          }
        },
        "97d8e6eaeb874ba995e887517491d66b": {
          "model_module": "@jupyter-widgets/output",
          "model_name": "OutputModel",
          "model_module_version": "1.0.0",
          "state": {
            "_view_name": "OutputView",
            "msg_id": "",
            "_dom_classes": [],
            "_model_name": "OutputModel",
            "outputs": [
              {
                "output_type": "stream",
                "name": "stdout",
                "text": [
                  "Average value for N is 50.55\n",
                  "--------------------------------------------------------------------------\n",
                  "Rice :79.89\n",
                  "Mango :20.07\n",
                  "Watermelon :99.42\n",
                  "Pomegranate :18.87\n",
                  "Coffee :101.20\n",
                  "Lentil :18.77\n",
                  "Jute :78.40\n",
                  "PigeonPeas :20.73\n",
                  "Papaya :49.88\n",
                  "Muskmelon :100.32\n",
                  "Maize :77.76\n",
                  "Mothbeans :21.44\n",
                  "Cotton :117.77\n",
                  "Banana :100.23\n",
                  "Chickpea :40.09\n",
                  "Coconut :21.98\n",
                  "Orange :19.58\n",
                  "Kidneybeans :20.75\n",
                  "MungBean :20.99\n",
                  "Apple :20.80\n",
                  "Grapes :23.18\n",
                  "Blackgram :40.02\n"
                ]
              }
            ],
            "_view_module": "@jupyter-widgets/output",
            "_model_module_version": "1.0.0",
            "_view_count": null,
            "_view_module_version": "1.0.0",
            "layout": "IPY_MODEL_c48bf210deb04467b979a9a1cf29ac3a",
            "_model_module": "@jupyter-widgets/output"
          }
        },
        "b8ebae6e350b485a9f391cb548becf60": {
          "model_module": "@jupyter-widgets/controls",
          "model_name": "DescriptionStyleModel",
          "model_module_version": "1.5.0",
          "state": {
            "_view_name": "StyleView",
            "_model_name": "DescriptionStyleModel",
            "description_width": "",
            "_view_module": "@jupyter-widgets/base",
            "_model_module_version": "1.5.0",
            "_view_count": null,
            "_view_module_version": "1.2.0",
            "_model_module": "@jupyter-widgets/controls"
          }
        },
        "e9db6eb6bab045c18d28c8f58597c6d7": {
          "model_module": "@jupyter-widgets/base",
          "model_name": "LayoutModel",
          "model_module_version": "1.2.0",
          "state": {
            "_view_name": "LayoutView",
            "grid_template_rows": null,
            "right": null,
            "justify_content": null,
            "_view_module": "@jupyter-widgets/base",
            "overflow": null,
            "_model_module_version": "1.2.0",
            "_view_count": null,
            "flex_flow": null,
            "width": null,
            "min_width": null,
            "border": null,
            "align_items": null,
            "bottom": null,
            "_model_module": "@jupyter-widgets/base",
            "top": null,
            "grid_column": null,
            "overflow_y": null,
            "overflow_x": null,
            "grid_auto_flow": null,
            "grid_area": null,
            "grid_template_columns": null,
            "flex": null,
            "_model_name": "LayoutModel",
            "justify_items": null,
            "grid_row": null,
            "max_height": null,
            "align_content": null,
            "visibility": null,
            "align_self": null,
            "height": null,
            "min_height": null,
            "padding": null,
            "grid_auto_rows": null,
            "grid_gap": null,
            "max_width": null,
            "order": null,
            "_view_module_version": "1.2.0",
            "grid_template_areas": null,
            "object_position": null,
            "object_fit": null,
            "grid_auto_columns": null,
            "margin": null,
            "display": null,
            "left": null
          }
        },
        "c48bf210deb04467b979a9a1cf29ac3a": {
          "model_module": "@jupyter-widgets/base",
          "model_name": "LayoutModel",
          "model_module_version": "1.2.0",
          "state": {
            "_view_name": "LayoutView",
            "grid_template_rows": null,
            "right": null,
            "justify_content": null,
            "_view_module": "@jupyter-widgets/base",
            "overflow": null,
            "_model_module_version": "1.2.0",
            "_view_count": null,
            "flex_flow": null,
            "width": null,
            "min_width": null,
            "border": null,
            "align_items": null,
            "bottom": null,
            "_model_module": "@jupyter-widgets/base",
            "top": null,
            "grid_column": null,
            "overflow_y": null,
            "overflow_x": null,
            "grid_auto_flow": null,
            "grid_area": null,
            "grid_template_columns": null,
            "flex": null,
            "_model_name": "LayoutModel",
            "justify_items": null,
            "grid_row": null,
            "max_height": null,
            "align_content": null,
            "visibility": null,
            "align_self": null,
            "height": null,
            "min_height": null,
            "padding": null,
            "grid_auto_rows": null,
            "grid_gap": null,
            "max_width": null,
            "order": null,
            "_view_module_version": "1.2.0",
            "grid_template_areas": null,
            "object_position": null,
            "object_fit": null,
            "grid_auto_columns": null,
            "margin": null,
            "display": null,
            "left": null
          }
        },
        "8efd4c4254ca45d296b2ac5401a1424a": {
          "model_module": "@jupyter-widgets/controls",
          "model_name": "VBoxModel",
          "model_module_version": "1.5.0",
          "state": {
            "_view_name": "VBoxView",
            "_dom_classes": [
              "widget-interact"
            ],
            "_model_name": "VBoxModel",
            "_view_module": "@jupyter-widgets/controls",
            "_model_module_version": "1.5.0",
            "_view_count": null,
            "_view_module_version": "1.5.0",
            "box_style": "",
            "layout": "IPY_MODEL_ceb44815c87a40b5b647cdc50c73a4e1",
            "_model_module": "@jupyter-widgets/controls",
            "children": [
              "IPY_MODEL_338bd5fd5b91497483c52e353932f91d",
              "IPY_MODEL_ad295cbdf5064ec0bfa34eb4b5b96a21"
            ]
          }
        },
        "ceb44815c87a40b5b647cdc50c73a4e1": {
          "model_module": "@jupyter-widgets/base",
          "model_name": "LayoutModel",
          "model_module_version": "1.2.0",
          "state": {
            "_view_name": "LayoutView",
            "grid_template_rows": null,
            "right": null,
            "justify_content": null,
            "_view_module": "@jupyter-widgets/base",
            "overflow": null,
            "_model_module_version": "1.2.0",
            "_view_count": null,
            "flex_flow": null,
            "width": null,
            "min_width": null,
            "border": null,
            "align_items": null,
            "bottom": null,
            "_model_module": "@jupyter-widgets/base",
            "top": null,
            "grid_column": null,
            "overflow_y": null,
            "overflow_x": null,
            "grid_auto_flow": null,
            "grid_area": null,
            "grid_template_columns": null,
            "flex": null,
            "_model_name": "LayoutModel",
            "justify_items": null,
            "grid_row": null,
            "max_height": null,
            "align_content": null,
            "visibility": null,
            "align_self": null,
            "height": null,
            "min_height": null,
            "padding": null,
            "grid_auto_rows": null,
            "grid_gap": null,
            "max_width": null,
            "order": null,
            "_view_module_version": "1.2.0",
            "grid_template_areas": null,
            "object_position": null,
            "object_fit": null,
            "grid_auto_columns": null,
            "margin": null,
            "display": null,
            "left": null
          }
        },
        "338bd5fd5b91497483c52e353932f91d": {
          "model_module": "@jupyter-widgets/controls",
          "model_name": "DropdownModel",
          "model_module_version": "1.5.0",
          "state": {
            "_options_labels": [
              "N",
              "K",
              "P",
              "temperature",
              "ph",
              "humidity",
              "rainfall"
            ],
            "_view_name": "DropdownView",
            "style": "IPY_MODEL_5eda4fe8bd2941c884f5ed5737ec2572",
            "_dom_classes": [],
            "description": "conditions",
            "_model_name": "DropdownModel",
            "index": 0,
            "_view_module": "@jupyter-widgets/controls",
            "_model_module_version": "1.5.0",
            "_view_count": null,
            "disabled": false,
            "_view_module_version": "1.5.0",
            "description_tooltip": null,
            "_model_module": "@jupyter-widgets/controls",
            "layout": "IPY_MODEL_7e534d921cd54f01b6741824e7cdd7b1"
          }
        },
        "ad295cbdf5064ec0bfa34eb4b5b96a21": {
          "model_module": "@jupyter-widgets/output",
          "model_name": "OutputModel",
          "model_module_version": "1.0.0",
          "state": {
            "_view_name": "OutputView",
            "msg_id": "",
            "_dom_classes": [],
            "_model_name": "OutputModel",
            "outputs": [
              {
                "output_type": "stream",
                "name": "stdout",
                "text": [
                  "Crops which require greater than average N \n",
                  "\n",
                  "['rice' 'maize' 'chickpea' 'blackgram' 'banana' 'watermelon' 'muskmelon'\n",
                  " 'papaya' 'cotton' 'jute' 'coffee']\n",
                  "----------------------------------------------------------------\n",
                  "Crop which require lesser than average N \n",
                  "\n",
                  "['chickpea' 'kidneybeans' 'pigeonpeas' 'mothbeans' 'mungbean' 'blackgram'\n",
                  " 'lentil' 'pomegranate' 'mango' 'grapes' 'apple' 'orange' 'papaya'\n",
                  " 'coconut']\n"
                ]
              }
            ],
            "_view_module": "@jupyter-widgets/output",
            "_model_module_version": "1.0.0",
            "_view_count": null,
            "_view_module_version": "1.0.0",
            "layout": "IPY_MODEL_676e808f0585439c9de5703ec058a80b",
            "_model_module": "@jupyter-widgets/output"
          }
        },
        "5eda4fe8bd2941c884f5ed5737ec2572": {
          "model_module": "@jupyter-widgets/controls",
          "model_name": "DescriptionStyleModel",
          "model_module_version": "1.5.0",
          "state": {
            "_view_name": "StyleView",
            "_model_name": "DescriptionStyleModel",
            "description_width": "",
            "_view_module": "@jupyter-widgets/base",
            "_model_module_version": "1.5.0",
            "_view_count": null,
            "_view_module_version": "1.2.0",
            "_model_module": "@jupyter-widgets/controls"
          }
        },
        "7e534d921cd54f01b6741824e7cdd7b1": {
          "model_module": "@jupyter-widgets/base",
          "model_name": "LayoutModel",
          "model_module_version": "1.2.0",
          "state": {
            "_view_name": "LayoutView",
            "grid_template_rows": null,
            "right": null,
            "justify_content": null,
            "_view_module": "@jupyter-widgets/base",
            "overflow": null,
            "_model_module_version": "1.2.0",
            "_view_count": null,
            "flex_flow": null,
            "width": null,
            "min_width": null,
            "border": null,
            "align_items": null,
            "bottom": null,
            "_model_module": "@jupyter-widgets/base",
            "top": null,
            "grid_column": null,
            "overflow_y": null,
            "overflow_x": null,
            "grid_auto_flow": null,
            "grid_area": null,
            "grid_template_columns": null,
            "flex": null,
            "_model_name": "LayoutModel",
            "justify_items": null,
            "grid_row": null,
            "max_height": null,
            "align_content": null,
            "visibility": null,
            "align_self": null,
            "height": null,
            "min_height": null,
            "padding": null,
            "grid_auto_rows": null,
            "grid_gap": null,
            "max_width": null,
            "order": null,
            "_view_module_version": "1.2.0",
            "grid_template_areas": null,
            "object_position": null,
            "object_fit": null,
            "grid_auto_columns": null,
            "margin": null,
            "display": null,
            "left": null
          }
        },
        "676e808f0585439c9de5703ec058a80b": {
          "model_module": "@jupyter-widgets/base",
          "model_name": "LayoutModel",
          "model_module_version": "1.2.0",
          "state": {
            "_view_name": "LayoutView",
            "grid_template_rows": null,
            "right": null,
            "justify_content": null,
            "_view_module": "@jupyter-widgets/base",
            "overflow": null,
            "_model_module_version": "1.2.0",
            "_view_count": null,
            "flex_flow": null,
            "width": null,
            "min_width": null,
            "border": null,
            "align_items": null,
            "bottom": null,
            "_model_module": "@jupyter-widgets/base",
            "top": null,
            "grid_column": null,
            "overflow_y": null,
            "overflow_x": null,
            "grid_auto_flow": null,
            "grid_area": null,
            "grid_template_columns": null,
            "flex": null,
            "_model_name": "LayoutModel",
            "justify_items": null,
            "grid_row": null,
            "max_height": null,
            "align_content": null,
            "visibility": null,
            "align_self": null,
            "height": null,
            "min_height": null,
            "padding": null,
            "grid_auto_rows": null,
            "grid_gap": null,
            "max_width": null,
            "order": null,
            "_view_module_version": "1.2.0",
            "grid_template_areas": null,
            "object_position": null,
            "object_fit": null,
            "grid_auto_columns": null,
            "margin": null,
            "display": null,
            "left": null
          }
        }
      }
    }
  },
  "cells": [
    {
      "cell_type": "markdown",
      "metadata": {
        "id": "view-in-github",
        "colab_type": "text"
      },
      "source": [
        "<a href=\"https://colab.research.google.com/github/sassysoul/Optimizing-Agricultural-Production/blob/main/Optimizing_Agricultural_Production.ipynb\" target=\"_parent\"><img src=\"https://colab.research.google.com/assets/colab-badge.svg\" alt=\"Open In Colab\"/></a>"
      ]
    },
    {
      "cell_type": "code",
      "metadata": {
        "id": "Hqfkh1PHcuc1"
      },
      "source": [
        "#for manipulation\n",
        "import numpy as np\n",
        "import pandas as pd\n",
        "\n",
        "#for data visulaization\n",
        "import matplotlib.pyplot as plt\n",
        "import seaborn as sns\n",
        "\n",
        "#for interactivity\n",
        "from ipywidgets import interact"
      ],
      "execution_count": null,
      "outputs": []
    },
    {
      "cell_type": "code",
      "metadata": {
        "id": "qxYjq1CUfmby"
      },
      "source": [
        "#Reading the data \n",
        "data = pd.read_csv('data.csv')"
      ],
      "execution_count": null,
      "outputs": []
    },
    {
      "cell_type": "code",
      "metadata": {
        "colab": {
          "base_uri": "https://localhost:8080/"
        },
        "id": "AieBwe5efzZ0",
        "outputId": "8902b1b9-00db-45c0-836b-0f7caded95e0"
      },
      "source": [
        "#Checking the shape of the Data\n",
        "print(\"Shape of the Data Set:\",data.shape)"
      ],
      "execution_count": null,
      "outputs": [
        {
          "output_type": "stream",
          "name": "stdout",
          "text": [
            "Shape of the Data Set: (2200, 8)\n"
          ]
        }
      ]
    },
    {
      "cell_type": "code",
      "metadata": {
        "colab": {
          "base_uri": "https://localhost:8080/",
          "height": 203
        },
        "id": "i2La2EQVgg8W",
        "outputId": "77484cda-ad84-4257-aa67-480895ca2490"
      },
      "source": [
        "#Checking the head of the data\n",
        "data.head()"
      ],
      "execution_count": null,
      "outputs": [
        {
          "output_type": "execute_result",
          "data": {
            "text/html": [
              "<div>\n",
              "<style scoped>\n",
              "    .dataframe tbody tr th:only-of-type {\n",
              "        vertical-align: middle;\n",
              "    }\n",
              "\n",
              "    .dataframe tbody tr th {\n",
              "        vertical-align: top;\n",
              "    }\n",
              "\n",
              "    .dataframe thead th {\n",
              "        text-align: right;\n",
              "    }\n",
              "</style>\n",
              "<table border=\"1\" class=\"dataframe\">\n",
              "  <thead>\n",
              "    <tr style=\"text-align: right;\">\n",
              "      <th></th>\n",
              "      <th>N</th>\n",
              "      <th>P</th>\n",
              "      <th>K</th>\n",
              "      <th>temperature</th>\n",
              "      <th>humidity</th>\n",
              "      <th>ph</th>\n",
              "      <th>rainfall</th>\n",
              "      <th>label</th>\n",
              "    </tr>\n",
              "  </thead>\n",
              "  <tbody>\n",
              "    <tr>\n",
              "      <th>0</th>\n",
              "      <td>90</td>\n",
              "      <td>42</td>\n",
              "      <td>43</td>\n",
              "      <td>20.879744</td>\n",
              "      <td>82.002744</td>\n",
              "      <td>6.502985</td>\n",
              "      <td>202.935536</td>\n",
              "      <td>rice</td>\n",
              "    </tr>\n",
              "    <tr>\n",
              "      <th>1</th>\n",
              "      <td>85</td>\n",
              "      <td>58</td>\n",
              "      <td>41</td>\n",
              "      <td>21.770462</td>\n",
              "      <td>80.319644</td>\n",
              "      <td>7.038096</td>\n",
              "      <td>226.655537</td>\n",
              "      <td>rice</td>\n",
              "    </tr>\n",
              "    <tr>\n",
              "      <th>2</th>\n",
              "      <td>60</td>\n",
              "      <td>55</td>\n",
              "      <td>44</td>\n",
              "      <td>23.004459</td>\n",
              "      <td>82.320763</td>\n",
              "      <td>7.840207</td>\n",
              "      <td>263.964248</td>\n",
              "      <td>rice</td>\n",
              "    </tr>\n",
              "    <tr>\n",
              "      <th>3</th>\n",
              "      <td>74</td>\n",
              "      <td>35</td>\n",
              "      <td>40</td>\n",
              "      <td>26.491096</td>\n",
              "      <td>80.158363</td>\n",
              "      <td>6.980401</td>\n",
              "      <td>242.864034</td>\n",
              "      <td>rice</td>\n",
              "    </tr>\n",
              "    <tr>\n",
              "      <th>4</th>\n",
              "      <td>78</td>\n",
              "      <td>42</td>\n",
              "      <td>42</td>\n",
              "      <td>20.130175</td>\n",
              "      <td>81.604873</td>\n",
              "      <td>7.628473</td>\n",
              "      <td>262.717340</td>\n",
              "      <td>rice</td>\n",
              "    </tr>\n",
              "  </tbody>\n",
              "</table>\n",
              "</div>"
            ],
            "text/plain": [
              "    N   P   K  temperature   humidity        ph    rainfall label\n",
              "0  90  42  43    20.879744  82.002744  6.502985  202.935536  rice\n",
              "1  85  58  41    21.770462  80.319644  7.038096  226.655537  rice\n",
              "2  60  55  44    23.004459  82.320763  7.840207  263.964248  rice\n",
              "3  74  35  40    26.491096  80.158363  6.980401  242.864034  rice\n",
              "4  78  42  42    20.130175  81.604873  7.628473  262.717340  rice"
            ]
          },
          "metadata": {},
          "execution_count": 18
        }
      ]
    },
    {
      "cell_type": "code",
      "metadata": {
        "colab": {
          "base_uri": "https://localhost:8080/"
        },
        "id": "f6YRMfI0g-M9",
        "outputId": "b050dd4d-63c1-4a96-f419-6a5c02be83d3"
      },
      "source": [
        "#Checking if there is any null values in our data set\n",
        "data.isnull().sum()"
      ],
      "execution_count": null,
      "outputs": [
        {
          "output_type": "execute_result",
          "data": {
            "text/plain": [
              "N              0\n",
              "P              0\n",
              "K              0\n",
              "temperature    0\n",
              "humidity       0\n",
              "ph             0\n",
              "rainfall       0\n",
              "label          0\n",
              "dtype: int64"
            ]
          },
          "metadata": {},
          "execution_count": 19
        }
      ]
    },
    {
      "cell_type": "code",
      "metadata": {
        "colab": {
          "base_uri": "https://localhost:8080/"
        },
        "id": "s0c6tkxkh8jt",
        "outputId": "0e858af7-5f08-4238-e124-ae12408cc66f"
      },
      "source": [
        "#Checking the crops present in the Data Set\n",
        "data['label'].value_counts()"
      ],
      "execution_count": null,
      "outputs": [
        {
          "output_type": "execute_result",
          "data": {
            "text/plain": [
              "watermelon     100\n",
              "pomegranate    100\n",
              "mango          100\n",
              "coffee         100\n",
              "lentil         100\n",
              "jute           100\n",
              "pigeonpeas     100\n",
              "papaya         100\n",
              "muskmelon      100\n",
              "maize          100\n",
              "mothbeans      100\n",
              "cotton         100\n",
              "banana         100\n",
              "chickpea       100\n",
              "coconut        100\n",
              "orange         100\n",
              "rice           100\n",
              "kidneybeans    100\n",
              "mungbean       100\n",
              "apple          100\n",
              "grapes         100\n",
              "blackgram      100\n",
              "Name: label, dtype: int64"
            ]
          },
          "metadata": {},
          "execution_count": 20
        }
      ]
    },
    {
      "cell_type": "code",
      "metadata": {
        "colab": {
          "base_uri": "https://localhost:8080/"
        },
        "id": "uX2QKIADix-J",
        "outputId": "d2ae8505-ba67-40e0-d554-6b9236961fad"
      },
      "source": [
        "#Creating Summary\n",
        "print(\"Average Ratio of Nitrogen in the Soil :{0:.2f}\".format(data['N'].mean()))\n",
        "print(\"Average Ratio of Phoshphorous in the Soil :{0:.2f}\".format(data['P'].mean()))\n",
        "print(\"Average Ratio of Potassium in the Soil :{0:.2f}\".format(data['K'].mean()))\n",
        "print(\"Average Temperature in Celsius :{0:.2f}\".format(data['temperature'].mean()))\n",
        "print(\"Average Relative Humidity in % :{0:.2f}\".format(data['humidity'].mean()))\n",
        "print(\"Average PH value of the Soil :{0:.2f}\".format(data['ph'].mean()))\n",
        "print(\"Average Rainfall in mm :{0:.2f}\".format(data['rainfall'].mean()))"
      ],
      "execution_count": null,
      "outputs": [
        {
          "output_type": "stream",
          "name": "stdout",
          "text": [
            "Average Ratio of Nitrogen in the Soil :50.55\n",
            "Average Ratio of Phoshphorous in the Soil :53.36\n",
            "Average Ratio of Potassium in the Soil :48.15\n",
            "Average Temperature in Celsius :25.62\n",
            "Average Relative Humidity in % :71.48\n",
            "Average PH value of the Soil :6.47\n",
            "Average Rainfall in mm :103.46\n"
          ]
        }
      ]
    },
    {
      "cell_type": "code",
      "metadata": {
        "colab": {
          "base_uri": "https://localhost:8080/",
          "height": 637,
          "referenced_widgets": [
            "9b06f9d2804b4453a891fffa1c6f1a3f",
            "05328c14d68f476fb158ee2802d156c7",
            "5eeed7f89787439f9e086c40e2da61f7",
            "790c81d151184791847bef1bdf8b1ea3",
            "09cb6c7f98ac48f2a820d5146982997d",
            "185e8bace05a440289f2971b7a3dc397",
            "ec620c8660e540b997cb7700cf88c108"
          ]
        },
        "id": "yu_phQpLmIv3",
        "outputId": "144837d9-cfe8-4a5c-e4e9-ce4659418b55"
      },
      "source": [
        "#Summary of each crop\n",
        "@interact\n",
        "\n",
        "def summary(crops = list(data['label'].value_counts().index)):\n",
        "  x = data[data['label']==crops]\n",
        "  print(\"----------------------------------------------------------------\")\n",
        "  print(\"Statistics for Nitrogen\")\n",
        "  print(\"Minimum Nitrogen required: \",x['N'].min())\n",
        "  print(\"Average Nitrogen required: \",x['N'].mean())\n",
        "  print(\"Maximum Nitrogen required: \",x['N'].max())\n",
        "  print(\"----------------------------------------------------------------\")\n",
        "  print(\"Statistics for Phoshphorous\")\n",
        "  print(\"Minimum Phoshphorous required: \",x['P'].min())\n",
        "  print(\"Average Phoshphorous required: \",x['P'].mean())\n",
        "  print(\"Maximum Phoshphorous required: \",x['P'].max())\n",
        "  print(\"----------------------------------------------------------------\")\n",
        "  print(\"Statistics for Potassium\")\n",
        "  print(\"Minimum Potassium required: \",x['P'].min())\n",
        "  print(\"Average Potassium required: \",x['P'].mean())\n",
        "  print(\"Maximum Potassium required: \",x['P'].max())\n",
        "  print(\"----------------------------------------------------------------\")\n",
        "  print(\"Statistics for Temperature\")\n",
        "  print(\"Minimum Temperature required: {0:.2f}\".format(x['temperature'].min()))\n",
        "  print(\"Average Temperature required: {0:.2f}\".format(x['temperature'].mean()))\n",
        "  print(\"Maximum Temperature required: {0:.2f}\".format(x['temperature'].max()))\n",
        "  print(\"----------------------------------------------------------------\")\n",
        "  print(\"Statistics for Humidity\")\n",
        "  print(\"Minimum Humidity required: {0:.2f}\".format(x['humidity'].min()))\n",
        "  print(\"Average Humidity required: {0:.2f}\".format(x['humidity'].mean()))\n",
        "  print(\"Maximum Humidity required: {0:.2f}\".format(x['humidity'].max()))\n",
        "  print(\"----------------------------------------------------------------\")\n",
        "  print(\"Statistics for PH\")\n",
        "  print(\"Minimum PH required: {0:.2f}\".format(x['ph'].min()))\n",
        "  print(\"Average PH required: {0:.2f}\".format(x['ph'].mean()))\n",
        "  print(\"Maximum PH required: {0:.2f}\".format(x['ph'].max()))\n",
        "  print(\"----------------------------------------------------------------\")\n",
        "  print(\"Statistics for Rainfall\")\n",
        "  print(\"Minimum rainfall required: {0:.2f}\".format(x['rainfall'].min()))\n",
        "  print(\"Average rainfall required: {0:.2f}\".format(x['rainfall'].mean()))\n",
        "  print(\"Maximum rainfall required: {0:.2f}\".format(x['rainfall'].max()))"
      ],
      "execution_count": null,
      "outputs": [
        {
          "output_type": "display_data",
          "data": {
            "application/vnd.jupyter.widget-view+json": {
              "model_id": "9b06f9d2804b4453a891fffa1c6f1a3f",
              "version_minor": 0,
              "version_major": 2
            },
            "text/plain": [
              "interactive(children=(Dropdown(description='crops', options=('watermelon', 'pomegranate', 'mango', 'coffee', '…"
            ]
          },
          "metadata": {}
        }
      ]
    },
    {
      "cell_type": "code",
      "metadata": {
        "colab": {
          "base_uri": "https://localhost:8080/",
          "height": 452,
          "referenced_widgets": [
            "0b24868f08cf4a888ff159f5e3a81456",
            "b595c3024735409da7b5e89a002f1010",
            "aea62da70c6d4d05832f3983eba92c7b",
            "97d8e6eaeb874ba995e887517491d66b",
            "b8ebae6e350b485a9f391cb548becf60",
            "e9db6eb6bab045c18d28c8f58597c6d7",
            "c48bf210deb04467b979a9a1cf29ac3a"
          ]
        },
        "id": "X7c2uLvDsKhi",
        "outputId": "acfb7e77-fd36-4650-a589-1c2d6571940e"
      },
      "source": [
        "#Comparing Average Requirement of Each Crop with Average Conditions\n",
        "@interact\n",
        "def compare(conditions = ['N','P','K','temperature','ph','humidity','rainfall']):\n",
        "  print(\"Average value for\",conditions,\"is {0:.2f}\".format(data[conditions].mean()))\n",
        "  print(\"--------------------------------------------------------------------------\")\n",
        "  print(\"Rice :{0:.2f}\".format(data[(data['label']=='rice')][conditions].mean()))\n",
        "  print(\"Mango :{0:.2f}\".format(data[(data['label']=='mango')][conditions].mean()))\n",
        "  print(\"Watermelon :{0:.2f}\".format(data[(data['label']=='watermelon')][conditions].mean()))\n",
        "  print(\"Pomegranate :{0:.2f}\".format(data[(data['label']=='pomegranate')][conditions].mean()))\n",
        "  print(\"Coffee :{0:.2f}\".format(data[(data['label']=='coffee')][conditions].mean()))\n",
        "  print(\"Lentil :{0:.2f}\".format(data[(data['label']=='lentil')][conditions].mean()))\n",
        "  print(\"Jute :{0:.2f}\".format(data[(data['label']=='jute')][conditions].mean()))\n",
        "  print(\"PigeonPeas :{0:.2f}\".format(data[(data['label']=='pigeonpeas')][conditions].mean()))\n",
        "  print(\"Papaya :{0:.2f}\".format(data[(data['label']=='papaya')][conditions].mean()))\n",
        "  print(\"Muskmelon :{0:.2f}\".format(data[(data['label']=='muskmelon')][conditions].mean()))\n",
        "  print(\"Maize :{0:.2f}\".format(data[(data['label']=='maize')][conditions].mean()))\n",
        "  print(\"Mothbeans :{0:.2f}\".format(data[(data['label']=='mothbeans')][conditions].mean()))\n",
        "  print(\"Cotton :{0:.2f}\".format(data[(data['label']=='cotton')][conditions].mean()))\n",
        "  print(\"Banana :{0:.2f}\".format(data[(data['label']=='banana')][conditions].mean()))\n",
        "  print(\"Chickpea :{0:.2f}\".format(data[(data['label']=='chickpea')][conditions].mean()))\n",
        "  print(\"Coconut :{0:.2f}\".format(data[(data['label']=='coconut')][conditions].mean()))\n",
        "  print(\"Orange :{0:.2f}\".format(data[(data['label']=='orange')][conditions].mean()))\n",
        "  print(\"Kidneybeans :{0:.2f}\".format(data[(data['label']=='kidneybeans')][conditions].mean()))\n",
        "  print(\"MungBean :{0:.2f}\".format(data[(data['label']=='mungbean')][conditions].mean()))\n",
        "  print(\"Apple :{0:.2f}\".format(data[(data['label']=='apple')][conditions].mean()))\n",
        "  print(\"Grapes :{0:.2f}\".format(data[(data['label']=='grapes')][conditions].mean()))\n",
        "  print(\"Blackgram :{0:.2f}\".format(data[(data['label']=='blackgram')][conditions].mean()))"
      ],
      "execution_count": null,
      "outputs": [
        {
          "output_type": "display_data",
          "data": {
            "application/vnd.jupyter.widget-view+json": {
              "model_id": "0b24868f08cf4a888ff159f5e3a81456",
              "version_minor": 0,
              "version_major": 2
            },
            "text/plain": [
              "interactive(children=(Dropdown(description='conditions', options=('N', 'P', 'K', 'temperature', 'ph', 'humidit…"
            ]
          },
          "metadata": {}
        }
      ]
    },
    {
      "cell_type": "code",
      "metadata": {
        "colab": {
          "base_uri": "https://localhost:8080/",
          "height": 217,
          "referenced_widgets": [
            "8efd4c4254ca45d296b2ac5401a1424a",
            "ceb44815c87a40b5b647cdc50c73a4e1",
            "338bd5fd5b91497483c52e353932f91d",
            "ad295cbdf5064ec0bfa34eb4b5b96a21",
            "5eda4fe8bd2941c884f5ed5737ec2572",
            "7e534d921cd54f01b6741824e7cdd7b1",
            "676e808f0585439c9de5703ec058a80b"
          ]
        },
        "id": "hDEnijZpx0bL",
        "outputId": "a0e809ea-0d1b-40b2-b842-58e1e32d377b"
      },
      "source": [
        "#Differentiating on the basis of Average\n",
        "@interact\n",
        "\n",
        "def compare(conditions = ['N','K','P','temperature','ph','humidity','rainfall']):\n",
        "  print(\"Crops which require greater than average\",conditions,'\\n')\n",
        "  print(data[data[conditions]>data[conditions].mean()]['label'].unique())\n",
        "  print(\"----------------------------------------------------------------\")\n",
        "  print(\"Crop which require lesser than average\",conditions,'\\n')\n",
        "  print(data[data[conditions]<=data[conditions].mean()]['label'].unique())"
      ],
      "execution_count": null,
      "outputs": [
        {
          "output_type": "display_data",
          "data": {
            "application/vnd.jupyter.widget-view+json": {
              "model_id": "8efd4c4254ca45d296b2ac5401a1424a",
              "version_minor": 0,
              "version_major": 2
            },
            "text/plain": [
              "interactive(children=(Dropdown(description='conditions', options=('N', 'K', 'P', 'temperature', 'ph', 'humidit…"
            ]
          },
          "metadata": {}
        }
      ]
    },
    {
      "cell_type": "code",
      "metadata": {
        "colab": {
          "base_uri": "https://localhost:8080/",
          "height": 283
        },
        "id": "sSER5E8HDre-",
        "outputId": "1f480551-4bed-4c85-f083-9e7da5d362c0"
      },
      "source": [
        "plt.subplot(2,4,1)\n",
        "sns.histplot(data['N'],color = \"red\")\n",
        "plt.xlabel(\"Ratio of Nitrogen\",fontsize = 10)\n",
        "plt.grid()\n",
        "\n",
        "plt.subplot(2,4,2)\n",
        "sns.histplot(data['K'],color = \"pink\")\n",
        "plt.xlabel(\"Ratio of Potassium\",fontsize = 10)\n",
        "plt.grid()\n",
        "\n",
        "plt.subplot(2,4,3)\n",
        "sns.histplot(data['P'],color = \"green\")\n",
        "plt.xlabel(\"Ratio of Phoshphorous\",fontsize = 10)\n",
        "plt.grid()\n",
        "\n",
        "plt.subplot(2,4,4)\n",
        "sns.histplot(data['temperature'],color = \"yellow\")\n",
        "plt.xlabel(\"Ratio of Temperature\",fontsize = 10)\n",
        "plt.grid()\n",
        "\n",
        "plt.subplot(2,4,5)\n",
        "sns.histplot(data['humidity'],color = \"green\")\n",
        "plt.xlabel(\"Ratio of Humidity\",fontsize = 10)\n",
        "plt.grid()\n",
        "\n",
        "plt.subplot(2,4,6)\n",
        "sns.histplot(data['rainfall'],color = \"blue\")\n",
        "plt.xlabel(\"Ratio of Rainfall\",fontsize = 10)\n",
        "plt.grid()\n",
        "\n",
        "plt.subplot(2,4,7)\n",
        "sns.histplot(data['ph'],color = \"red\")\n",
        "plt.xlabel(\"Ratio of PH value\",fontsize = 10)\n",
        "plt.grid()\n"
      ],
      "execution_count": null,
      "outputs": [
        {
          "output_type": "display_data",
          "data": {
            "image/png": "[encoded data removed]",
            "text/plain": [
              "<Figure size 432x288 with 7 Axes>"
            ]
          },
          "metadata": {
            "needs_background": "light"
          }
        }
      ]
    }
  ]
}